{
 "cells": [
  {
   "cell_type": "markdown",
   "metadata": {},
   "source": [
    "## Contents:\n",
    "0. [Preparation](#preparation)\n",
    "1. [Model Selection](#Model-Selection)\n",
    "   - [Linear models](#Linear_models)\n",
    "   - [XGBoost](#XGBoost)\n",
    "   - [Support Vector Regression](#SVR)\n",
    "   - [Comparison of performance](#performance)\n",
    "2. [Feature Importance](#Feature-Importance)"
   ]
  },
  {
   "cell_type": "markdown",
   "metadata": {},
   "source": [
    "<a id='preparation'></a>\n",
    "## Preparation"
   ]
  },
  {
   "cell_type": "code",
   "execution_count": null,
   "metadata": {},
   "outputs": [],
   "source": [
    "import numpy as np\n",
    "import pandas as pd\n",
    "import matplotlib.pyplot as plt\n",
    "from sklearn.model_selection import train_test_split\n",
    "\n",
    "from prepare import generate_polynomial\n",
    "\n",
    "\n",
    "fname = 'train.csv'\n",
    "data = pd.read_csv('data/preprocessed_' + fname, index_col='Id')\n",
    "n_examples, n_features = data.shape\n",
    "X, y = data.drop(columns=['log_SalePrice']), data['log_SalePrice']\n",
    "print(X.isna().sum().sum())\n",
    "\n",
    "# adding polynomial terms\n",
    "X = generate_polynomial(X)\n",
    "print(X.isna().sum().sort_values(ascending=False).head())\n",
    "\n",
    "# standardization\n",
    "from sklearn.preprocessing import StandardScaler\n",
    "\n",
    "scaler = StandardScaler()\n",
    "index, features = X.index, X.columns\n",
    "X = scaler.fit_transform(X)\n",
    "X = pd.DataFrame(X, index=index, columns=features)\n",
    "print(X.isna().sum().sum())\n",
    "\n",
    "# train/test splitting\n",
    "X_train, X_test, y_train, y_test = train_test_split(X, y, test_size=0.25, random_state=42)\n"
   ]
  },
  {
   "cell_type": "markdown",
   "metadata": {},
   "source": [
    "## Model Selection"
   ]
  },
  {
   "cell_type": "code",
   "execution_count": 2,
   "metadata": {},
   "outputs": [],
   "source": [
    "from sklearn.linear_model import RidgeCV, LassoCV, ElasticNetCV\n",
    "\n",
    "from sklearn.metrics import mean_squared_error\n",
    "from sklearn.model_selection import validation_curve\n",
    "from sklearn.model_selection import cross_val_score\n",
    "\n",
    "def rmse_cv(model):\n",
    "    rmse = np.sqrt(-cross_val_score(model, X, y, scoring=\"neg_mean_squared_error\"))\n",
    "    return rmse\n",
    "\n",
    "def print_err(models):\n",
    "    for model in models:\n",
    "        print(\"RMSE for {:15s}: {:5.3f}\".format(model.__class__.__name__, rmse_cv(model).mean()))\n"
   ]
  },
  {
   "cell_type": "markdown",
   "metadata": {},
   "source": [
    "<a id='Linear_models'></a>\n",
    "\n",
    "### Linear models"
   ]
  },
  {
   "cell_type": "code",
   "execution_count": 3,
   "metadata": {},
   "outputs": [
    {
     "name": "stdout",
     "output_type": "stream",
     "text": [
      "RMSE for RidgeCV        : 0.120\n",
      "RMSE for LassoCV        : 0.123\n",
      "RMSE for ElasticNetCV   : 0.121\n"
     ]
    }
   ],
   "source": [
    "max_iter = 1000\n",
    "alpha_range = np.arange(0.01, 0.15, 0.01)\n",
    "\n",
    "ridge = RidgeCV(alphas = alpha_range, \n",
    "                scoring=\"neg_mean_squared_error\").fit(X_train, y_train)\n",
    "lasso = LassoCV(alphas = alpha_range).fit(X_train, y_train)\n",
    "elastic_net = ElasticNetCV(alphas=alpha_range).fit(X_train, y_train)\n",
    "\n",
    "print_err([ridge, lasso, elastic_net])"
   ]
  },
  {
   "cell_type": "markdown",
   "metadata": {},
   "source": [
    "<a id='XGBoost'></a>\n",
    "### XGBoost"
   ]
  },
  {
   "cell_type": "code",
   "execution_count": 5,
   "metadata": {},
   "outputs": [],
   "source": [
    "from xgboost import XGBRegressor\n",
    "from xgboost import XGBRFRegressor\n",
    "from sklearn.model_selection import GridSearchCV\n",
    "\n",
    "def hyperParameterTuning():\n",
    "    param_grid = {\n",
    "        \"learning_rate\" : [0.01, 0.1, 0.2, 0.3],\n",
    "        \"max_depth\": [2, 3, 5],\n",
    "        \"min_child_weight\": [1, 3, 5],\n",
    "        \"subsample\" : [1],\n",
    "        'colsample_bytree': [0.5],\n",
    "        \"n_estimators\" : [200, 500],\n",
    "        \"objective\": ['reg:squarederror'],  \n",
    "    }\n",
    "    \n",
    "    gsearch = GridSearchCV(estimator=XGBRegressor(),\n",
    "                          param_grid=param_grid,\n",
    "                          scoring='neg_mean_squared_error',\n",
    "                          cv=5,\n",
    "                          n_jobs=-1,\n",
    "                          verbose=1)\n",
    "    gsearch.fit(X, y)\n",
    "    return gsearch.best_params_\n",
    "\n",
    "# WARNING! It may take a few minutes.\n",
    "# hyperParameterTuning()"
   ]
  },
  {
   "cell_type": "code",
   "execution_count": 13,
   "metadata": {},
   "outputs": [
    {
     "name": "stdout",
     "output_type": "stream",
     "text": [
      "RMSE for final XGBoost regressor:  0.12311356887518159\n"
     ]
    },
    {
     "data": {
      "image/png": "[encoded data removed]",
      "text/plain": [
       "<Figure size 432x288 with 1 Axes>"
      ]
     },
     "metadata": {
      "needs_background": "light"
     },
     "output_type": "display_data"
    }
   ],
   "source": [
    "params = {'colsample_bytree': 0.5,\n",
    " 'learning_rate': 0.1,\n",
    " 'max_depth': 10,\n",
    " 'min_child_weight': 1,\n",
    " 'n_estimators': 200,\n",
    " 'objective': 'reg:squarederror',\n",
    " 'subsample': 1}\n",
    "\n",
    "print(\"RMSE for final XGBoost regressor: \", rmse_cv(xgbr).mean())\n",
    "xgbr = XGBRegressor(**params)\n",
    "# xgbr.set_params(learning_rate=0.3)\n",
    "xgbr.fit(X_train, y_train, verbose=0)\n"
   ]
  },
  {
   "cell_type": "markdown",
   "metadata": {},
   "source": [
    "<a id='SVR'></a>\n",
    "\n",
    "### Support Vector Regression"
   ]
  },
  {
   "cell_type": "code",
   "execution_count": 7,
   "metadata": {},
   "outputs": [],
   "source": [
    "# hyperparameter tuning\n",
    "from sklearn.svm import SVR\n",
    "\n",
    "params = {\n",
    "    \"kernel\": [\"linear\", \"rbf\"],\n",
    "    \"C\": [0.5, 1, 2, 3],\n",
    "    \"epsilon\": [0.01, 0.05, 0.1, 0.15, 0.2],\n",
    "    \"max_iter\": [2000],\n",
    "    \"gamma\": [0.001, 0.01, 0.1, 1, 10]}\n",
    "\n",
    "# # WARNING! Grid search may take a few minutes.\n",
    "# gsearch = GridSearchCV(estimator= SVR(),\n",
    "#                        param_grid=params,\n",
    "#                        scoring='neg_mean_squared_error',\n",
    "#                        cv=5,\n",
    "#                        n_jobs=-1,\n",
    "#                        verbose=1)\n",
    "# gsearch.fit(X, y)\n",
    "# gsearch.best_params_\n",
    "\n",
    "params = {'C': 1, 'epsilon': 0.05, 'gamma': 0.01, 'kernel': 'rbf', 'max_iter': 5000}\n",
    "svr = SVR(**params)"
   ]
  },
  {
   "cell_type": "markdown",
   "metadata": {},
   "source": [
    "<a id='performance'></a>\n",
    "### Comparison of model performances"
   ]
  },
  {
   "cell_type": "code",
   "execution_count": 19,
   "metadata": {},
   "outputs": [
    {
     "data": {
      "image/png": "[encoded data removed]",
      "text/plain": [
       "<Figure size 432x288 with 1 Axes>"
      ]
     },
     "metadata": {
      "needs_background": "light"
     },
     "output_type": "display_data"
    }
   ],
   "source": [
    "err = pd.Series(index=[\"ridge\", \"lasso\", \"elastic_net\", \"xgbr\", \"svr\"], dtype=\"float64\")\n",
    "for i, model in enumerate([ridge, lasso, elastic_net, xgbr, svr]):\n",
    "    err.iloc[i] = rmse_cv(model).mean()\n",
    "    \n",
    "err.plot(kind=\"barh\")\n",
    "plt.axvline(err.mean(), color='black')\n",
    "plt.title('Performanse of models')\n",
    "plt.xlabel('Loss');"
   ]
  },
  {
   "cell_type": "markdown",
   "metadata": {},
   "source": [
    "\n",
    "    \n",
    "## Feature Importance"
   ]
  },
  {
   "cell_type": "code",
   "execution_count": 37,
   "metadata": {},
   "outputs": [
    {
     "name": "stdout",
     "output_type": "stream",
     "text": [
      "# of important features:  21\n"
     ]
    },
    {
     "data": {
      "image/png": "[encoded data removed]",
      "text/plain": [
       "<Figure size 432x288 with 1 Axes>"
      ]
     },
     "metadata": {
      "needs_background": "light"
     },
     "output_type": "display_data"
    }
   ],
   "source": [
    "imp= pd.Series(xgbr.feature_importances_, index=features)\n",
    "imp = imp[imp > 0.01]\n",
    "print('# of important features: ', len(imp))\n",
    "imp = imp.sort_values(ascending=False)\n",
    "\n",
    "imp.head(10).plot(kind='barh')\n",
    "plt.axvline(imp.mean(), color='red', label='mean')\n",
    "plt.xlabel('XGB importance')\n",
    "plt.title('Feature importances');"
   ]
  }
 ],
 "metadata": {
  "kernelspec": {
   "display_name": "Python 3",
   "language": "python",
   "name": "python3"
  },
  "language_info": {
   "codemirror_mode": {
    "name": "ipython",
    "version": 3
   },
   "file_extension": ".py",
   "mimetype": "text/x-python",
   "name": "python",
   "nbconvert_exporter": "python",
   "pygments_lexer": "ipython3",
   "version": "3.8.2"
  }
 },
 "nbformat": 4,
 "nbformat_minor": 4
}
