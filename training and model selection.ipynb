{
 "cells": [
  {
   "cell_type": "code",
   "execution_count": 4,
   "metadata": {},
   "outputs": [
    {
     "name": "stdout",
     "output_type": "stream",
     "text": [
      "Index(['LotFrontage', 'LotArea', 'Street', 'Alley', 'Utilities', 'OverallQual',\n",
      "       'YearBuilt', 'TotalBsmtSF', 'CentralAir', 'Electrical', 'GrLivArea',\n",
      "       'PavedDrive', 'EnclosedPorch', 'PoolArea', 'Fence',\n",
      "       'SaleCondition_Abnorml', 'SaleCondition_Normal',\n",
      "       'SaleCondition_Partial', 'MSZoning_C (all)', 'MSZoning_RH',\n",
      "       'MSZoning_RL', 'MSZoning_RM', 'NearArtery_or_Feedr', 'PositiveFeat',\n",
      "       'BsmtQuartersQ', 'DeductionsFunctional', 'RegularityOfShape',\n",
      "       'means_neigh', 'TotBath', 'KitchensRating', 'FireplacesRating',\n",
      "       'GarageRating', 'HasBasement', 'SalePrice'],\n",
      "      dtype='object')\n"
     ]
    }
   ],
   "source": [
    "import numpy as np\n",
    "import pandas as pd\n",
    "import matplotlib.pyplot as plt\n",
    "from sklearn.model_selection import train_test_split\n",
    "\n",
    "fname = 'train.csv'\n",
    "data = pd.read_csv('preprocessed_' + fname, index_col='Id')\n",
    "n_examples, n_features = data.shape\n",
    "\n",
    "X, y = data.drop(columns=['SalePrice']), data['SalePrice']\n",
    "# X_train, X_test, y_train, y_test = train_test_split(X, y, test_size=0.25, random_state=42)\n",
    "# X_train.shape, X_test.shape, y_train.shape, y_test.shape\n",
    "\n",
    "X.shape, y.shape"
   ]
  },
  {
   "cell_type": "code",
   "execution_count": 5,
   "metadata": {
    "scrolled": true
   },
   "outputs": [
    {
     "name": "stdout",
     "output_type": "stream",
     "text": [
      "(1460, 69) (1460,)\n"
     ]
    },
    {
     "name": "stderr",
     "output_type": "stream",
     "text": [
      "/home/paul/anaconda3/lib/python3.8/site-packages/pandas/core/indexing.py:1745: SettingWithCopyWarning: \n",
      "A value is trying to be set on a copy of a slice from a DataFrame.\n",
      "Try using .loc[row_indexer,col_indexer] = value instead\n",
      "\n",
      "See the caveats in the documentation: https://pandas.pydata.org/pandas-docs/stable/user_guide/indexing.html#returning-a-view-versus-a-copy\n",
      "  isetter(ilocs[0], value)\n"
     ]
    }
   ],
   "source": [
    "# generate polynomial features\n",
    "\n",
    "def generate_polynomial(df):\n",
    "    lst = ['OverallQual', 'GrLivArea',\n",
    "           'GarageRating', 'YearBuilt',\n",
    "           'FireplacesRating', 'KitchensRating', 'BsmtQuartersQ',\n",
    "           'LotFrontage', 'LotArea']\n",
    "    for feat in lst:\n",
    "        for degree in [0.5, 1, 2, 3]:\n",
    "            poly_column_name = feat + ' ^ ' + str(degree)\n",
    "            df.loc[:, poly_column_name] = df[feat]**degree\n",
    "    return df\n",
    "\n",
    "X = generate_polynomial(X)\n",
    "print(X.shape, y.shape)\n",
    "X_train, X_test, y_train, y_test = train_test_split(X, y, test_size=0.25, random_state=42)\n",
    "\n",
    "# apply normalization\n",
    "from sklearn.preprocessing import StandardScaler\n",
    "scaler = StandardScaler()\n",
    "X_train = scaler.fit_transform(X_train)\n",
    "\n",
    "\n",
    "# the same for test set\n",
    "X_test = generate_polynomial(X_test)\n",
    "X_test = scaler.transform(X_test)\n",
    "\n",
    "features = X.columns.to_numpy()\n",
    "X = scaler.transform(X)"
   ]
  },
  {
   "cell_type": "markdown",
   "metadata": {},
   "source": [
    "# Model Selection"
   ]
  },
  {
   "cell_type": "code",
   "execution_count": 6,
   "metadata": {},
   "outputs": [],
   "source": [
    "from sklearn.linear_model import RidgeCV, LassoCV, ElasticNetCV\n",
    "from sklearn.svm import SVR\n",
    "from sklearn.neural_network import MLPRegressor\n",
    "from sklearn.neighbors import KNeighborsRegressor\n",
    "from sklearn.ensemble import RandomForestRegressor, GradientBoostingRegressor, AdaBoostRegressor\n",
    "\n",
    "from sklearn.metrics import mean_squared_error\n",
    "from sklearn.model_selection import validation_curve\n",
    "from sklearn.model_selection import cross_val_score\n",
    "\n",
    "def rmse_cv(model):\n",
    "    rmse = np.sqrt(-cross_val_score(model, X, y, scoring=\"neg_mean_squared_error\"))\n",
    "    return rmse"
   ]
  },
  {
   "cell_type": "markdown",
   "metadata": {},
   "source": [
    "Linear models:"
   ]
  },
  {
   "cell_type": "code",
   "execution_count": 7,
   "metadata": {
    "scrolled": false
   },
   "outputs": [
    {
     "name": "stderr",
     "output_type": "stream",
     "text": [
      "/home/paul/anaconda3/lib/python3.8/site-packages/sklearn/linear_model/_coordinate_descent.py:529: ConvergenceWarning: Objective did not converge. You might want to increase the number of iterations. Duality gap: 0.022756432974503582, tolerance: 0.016938297685304308\n",
      "  model = cd_fast.enet_coordinate_descent(\n"
     ]
    },
    {
     "name": "stdout",
     "output_type": "stream",
     "text": [
      "RMSE for Ridge:       0.1454593881956124\n"
     ]
    },
    {
     "name": "stderr",
     "output_type": "stream",
     "text": [
      "/home/paul/anaconda3/lib/python3.8/site-packages/sklearn/linear_model/_coordinate_descent.py:529: ConvergenceWarning: Objective did not converge. You might want to increase the number of iterations. Duality gap: 0.023057566562133758, tolerance: 0.0180024221282852\n",
      "  model = cd_fast.enet_coordinate_descent(\n",
      "/home/paul/anaconda3/lib/python3.8/site-packages/sklearn/linear_model/_coordinate_descent.py:529: ConvergenceWarning: Objective did not converge. You might want to increase the number of iterations. Duality gap: 0.028744252186172048, tolerance: 0.018373848090999036\n",
      "  model = cd_fast.enet_coordinate_descent(\n"
     ]
    },
    {
     "name": "stdout",
     "output_type": "stream",
     "text": [
      "RMSE for Lasso:       0.13956771912086507\n",
      "RMSE for ElasticNet:  0.1399204286851495\n"
     ]
    }
   ],
   "source": [
    "alpha_range = np.arange(0.01, 0.15, 0.01)\n",
    "\n",
    "ridge = RidgeCV(alphas = alpha_range, scoring=\"neg_mean_squared_error\").fit(X_train, y_train)\n",
    "lasso = LassoCV(alphas = alpha_range).fit(X_train, y_train)\n",
    "elastic_net = ElasticNetCV(alphas=alpha_range).fit(X_train, y_train)\n",
    "\n",
    "print(\"RMSE for Ridge:      \", rmse_cv(ridge).mean())\n",
    "print(\"RMSE for Lasso:      \", rmse_cv(lasso).mean())\n",
    "print(\"RMSE for ElasticNet: \", rmse_cv(elastic_net).mean())\n",
    "\n",
    "\n",
    "# print(ridge.score(X_train, y_train), lasso.score(X_train, y_train), elastic_net.score(X_train, y_train))\n",
    "# print(ridge.score(X_test, y_test), lasso.score(X_test, y_test), elastic_net.score(X_test, y_test))\n",
    "# print(ridge.alpha_, lasso.alpha_, elastic_net.alpha_, elastic_net.l1_ratio_)"
   ]
  },
  {
   "cell_type": "markdown",
   "metadata": {},
   "source": [
    "XGBoost:"
   ]
  },
  {
   "cell_type": "code",
   "execution_count": 8,
   "metadata": {},
   "outputs": [
    {
     "data": {
      "image/png": "[encoded data removed]",
      "text/plain": [
       "<Figure size 432x288 with 1 Axes>"
      ]
     },
     "metadata": {
      "needs_background": "light"
     },
     "output_type": "display_data"
    }
   ],
   "source": [
    "import xgboost as xgb\n",
    "\n",
    "dtrain = xgb.DMatrix(X_train, label=y_train)\n",
    "dtest = xgb.DMatrix(X_test, label=y_test)\n",
    "param = {'max_depth': 2, \n",
    "         'eta': 0.3, \n",
    "         'alpha': 1,\n",
    "         'lambda': 0,\n",
    "         'objective': 'reg:squarederror',\n",
    "        'verbosity': 1}\n",
    "\n",
    "num_round = 100\n",
    "evallist = [(dtest, 'valid'), (dtrain, 'train')]\n",
    "\n",
    "n_alpha = 10\n",
    "alpha_range = np.linspace(0, 0.2, n_alpha)\n",
    "scores_train = []\n",
    "scores_test = []\n",
    "for alpha in alpha_range: \n",
    "    param['alpha'] = alpha\n",
    "    bst = xgb.train(param, dtrain, num_round, evallist, verbose_eval=0)\n",
    "    scores_train.append(np.sqrt(mean_squared_error(bst.predict(dtrain), y_train)))\n",
    "    scores_test.append(np.sqrt(mean_squared_error(bst.predict(dtest), y_test)))\n",
    "\n",
    "plt.plot(alpha_range, np.array(scores_train), label = \"train\")\n",
    "plt.plot(alpha_range, np.array(scores_test), label = \"test\")\n",
    "plt.xlabel(\"alpha\")\n",
    "plt.ylabel(\"RMSE\")\n",
    "plt.legend();"
   ]
  },
  {
   "cell_type": "code",
   "execution_count": 9,
   "metadata": {},
   "outputs": [],
   "source": [
    "from xgboost import XGBRegressor\n",
    "from xgboost import XGBRFRegressor\n",
    "from sklearn.model_selection import GridSearchCV\n",
    "\n",
    "def hyperParameterTuning():\n",
    "    params = {\n",
    "        \"learning_rate\" : [0.01, 0.1, 0.2, 0.3],\n",
    "        \"max_depth\": [2, 3, 5, 10],\n",
    "        \"min_child_weight\": [1, 3, 5],\n",
    "        \"subsample\" : [1],\n",
    "        'colsample_bytree': [0.5],\n",
    "        \"n_estimators\" : [100, 200, 500],\n",
    "        \"objective\": ['reg:squarederror'],  \n",
    "    }\n",
    "    \n",
    "    gsearch = GridSearchCV(estimator=XGBRegressor(),\n",
    "                          param_grid=params,\n",
    "                          scoring='neg_mean_squared_error',\n",
    "                          cv=5,\n",
    "                          n_jobs=-1,\n",
    "                          verbose=1)\n",
    "    gsearch.fit(X, y)\n",
    "    return gsearch.best_params_\n",
    "\n",
    "# hyperParameterTuning()"
   ]
  },
  {
   "cell_type": "code",
   "execution_count": 10,
   "metadata": {},
   "outputs": [
    {
     "name": "stdout",
     "output_type": "stream",
     "text": [
      "RMSE for final XGBoost regressor: \n"
     ]
    },
    {
     "data": {
      "image/png": "[encoded data removed]",
      "text/plain": [
       "<Figure size 432x288 with 1 Axes>"
      ]
     },
     "metadata": {
      "needs_background": "light"
     },
     "output_type": "display_data"
    }
   ],
   "source": [
    "params = {'colsample_bytree': 0.5,\n",
    " 'learning_rate': 0.1,\n",
    " 'max_depth': 10,\n",
    " 'min_child_weight': 1,\n",
    " 'n_estimators': 200,\n",
    " 'objective': 'reg:squarederror',\n",
    " 'subsample': 1}\n",
    "\n",
    "print(\"RMSE for final XGBoost regressor: \")\n",
    "xgbr = XGBRegressor(**params)\n",
    "# xgbr.set_params(learning_rate=0.3)\n",
    "xgbr.fit(X_train, y_train, verbose=0)\n",
    "importance = pd.Series(xgbr.feature_importances_, index=features)\n",
    "rmse_cv(xgbr).mean()\n",
    "\n",
    "importance = importance.sort_values(ascending=False)\n",
    "# display(importance)\n",
    "importance = importance.head(10)\n",
    "importance.plot(kind='barh');"
   ]
  },
  {
   "cell_type": "markdown",
   "metadata": {},
   "source": [
    "Support Vector Regression"
   ]
  },
  {
   "cell_type": "code",
   "execution_count": 8,
   "metadata": {},
   "outputs": [
    {
     "name": "stdout",
     "output_type": "stream",
     "text": [
      "Fitting 5 folds for each of 200 candidates, totalling 1000 fits\n"
     ]
    },
    {
     "name": "stderr",
     "output_type": "stream",
     "text": [
      "[Parallel(n_jobs=-1)]: Using backend LokyBackend with 4 concurrent workers.\n",
      "[Parallel(n_jobs=-1)]: Done  42 tasks      | elapsed:    5.8s\n",
      "[Parallel(n_jobs=-1)]: Done 192 tasks      | elapsed:   16.8s\n",
      "[Parallel(n_jobs=-1)]: Done 442 tasks      | elapsed:   34.8s\n",
      "[Parallel(n_jobs=-1)]: Done 792 tasks      | elapsed:   59.7s\n",
      "[Parallel(n_jobs=-1)]: Done 1000 out of 1000 | elapsed:  1.2min finished\n",
      "/home/paul/anaconda3/lib/python3.8/site-packages/sklearn/svm/_base.py:246: ConvergenceWarning: Solver terminated early (max_iter=2000).  Consider pre-processing your data with StandardScaler or MinMaxScaler.\n",
      "  warnings.warn('Solver terminated early (max_iter=%i).'\n"
     ]
    },
    {
     "data": {
      "text/plain": [
       "{'C': 1, 'epsilon': 0.05, 'gamma': 0.01, 'kernel': 'rbf', 'max_iter': 2000}"
      ]
     },
     "execution_count": 8,
     "metadata": {},
     "output_type": "execute_result"
    }
   ],
   "source": [
    "# hyperparameter tuning\n",
    "from sklearn.svm import SVR\n",
    "\n",
    "params = {\n",
    "    \"kernel\": [\"linear\", \"rbf\"],\n",
    "    \"C\": [0.5, 1, 2, 3],\n",
    "    \"epsilon\": [0.01, 0.05, 0.1, 0.15, 0.2],\n",
    "    \"max_iter\": [2000],\n",
    "    \"gamma\": [0.001, 0.01, 0.1, 1, 10]}\n",
    "\n",
    "gsearch = GridSearchCV(estimator= SVR(),\n",
    "                       param_grid=params,\n",
    "                       scoring='neg_mean_squared_error',\n",
    "                       cv=5,\n",
    "                       n_jobs=-1,\n",
    "                       verbose=1)\n",
    "gsearch.fit(X, y)\n",
    "gsearch.best_params_"
   ]
  },
  {
   "cell_type": "code",
   "execution_count": 9,
   "metadata": {},
   "outputs": [
    {
     "data": {
      "text/plain": [
       "0.16086924336962966"
      ]
     },
     "execution_count": 9,
     "metadata": {},
     "output_type": "execute_result"
    }
   ],
   "source": [
    "# evaluating model\n",
    "params = {'C': 1, 'epsilon': 0.05, 'gamma': 0.01, 'kernel': 'rbf', 'max_iter': 5000}\n",
    "svr = SVR(**params)\n",
    "\n",
    "rmse_cv(svr).mean()"
   ]
  },
  {
   "cell_type": "markdown",
   "metadata": {},
   "source": [
    "Comparing performanse"
   ]
  },
  {
   "cell_type": "code",
   "execution_count": 10,
   "metadata": {},
   "outputs": [
    {
     "data": {
      "text/plain": [
       "<matplotlib.axes._subplots.AxesSubplot at 0x7f23a5ca4cd0>"
      ]
     },
     "execution_count": 10,
     "metadata": {},
     "output_type": "execute_result"
    },
    {
     "data": {
      "image/png": "[encoded data removed]",
      "text/plain": [
       "<Figure size 432x288 with 1 Axes>"
      ]
     },
     "metadata": {
      "needs_background": "light"
     },
     "output_type": "display_data"
    }
   ],
   "source": [
    "RMSE = pd.Series(index=[\"ridge\", \"lasso\", \"elastic_net\", \"xgbr\", \"svr\"], dtype=\"float64\")\n",
    "for i, model in enumerate([ridge, lasso, elastic_net, xgbr, svr]):\n",
    "    RMSE.iloc[i] = rmse_cv(model).mean()\n",
    "    \n",
    "RMSE.plot(kind=\"barh\")"
   ]
  },
  {
   "cell_type": "markdown",
   "metadata": {},
   "source": [
    "# Training ElasticNet"
   ]
  },
  {
   "cell_type": "code",
   "execution_count": 11,
   "metadata": {},
   "outputs": [
    {
     "name": "stdout",
     "output_type": "stream",
     "text": [
      "{'alpha': 0.2, 'copy_X': True, 'fit_intercept': True, 'l1_ratio': 0.5, 'max_iter': 10000, 'normalize': False, 'positive': False, 'precompute': False, 'random_state': None, 'selection': 'cyclic', 'tol': 0.0001, 'warm_start': False}\n"
     ]
    },
    {
     "data": {
      "image/png": "[encoded data removed]",
      "text/plain": [
       "<Figure size 720x720 with 1 Axes>"
      ]
     },
     "metadata": {
      "needs_background": "light"
     },
     "output_type": "display_data"
    }
   ],
   "source": [
    "from sklearn.linear_model import ElasticNet, LinearRegression\n",
    "model = ElasticNet(alpha=0.2, max_iter=10000).fit(X_train, y_train)\n",
    "\n",
    "alphas, coefs, _ = model.path(X_train, y_train)\n",
    "plt.figure(figsize=(10, 10))\n",
    "for i in range(n_features):\n",
    "    ax = plt.gca()\n",
    "    ax.plot(alphas, coefs[i, :]);\n",
    "    \n",
    "# coefs.max()\n",
    "# alphas.min(), alphas.max()\n",
    "print(model.get_params())"
   ]
  },
  {
   "cell_type": "code",
   "execution_count": 12,
   "metadata": {},
   "outputs": [
    {
     "name": "stdout",
     "output_type": "stream",
     "text": [
      "ElasticNet(alpha=0.2, l1_ratio=0)\n",
      "R^2 score on train =   6.87e-01\n",
      "R^2 score on test  =   6.87e-01\n",
      "MSE on train       =   2.81e-02\n",
      "MSE on test        =   2.88e-02\n"
     ]
    },
    {
     "name": "stderr",
     "output_type": "stream",
     "text": [
      "/home/paul/anaconda3/lib/python3.8/site-packages/sklearn/linear_model/_coordinate_descent.py:529: ConvergenceWarning: Objective did not converge. You might want to increase the number of iterations. Duality gap: 16.063461401465187, tolerance: 0.009748603945682445\n",
      "  model = cd_fast.enet_coordinate_descent(\n"
     ]
    }
   ],
   "source": [
    "# score\n",
    "from sklearn.linear_model import ElasticNet\n",
    "from sklearn.metrics import mean_squared_error\n",
    "\n",
    "def print_score(model):\n",
    "    print(model)\n",
    "    print('R^2 score on train = {:>10.2e}'.format(model.score(X_train, y_train)))\n",
    "    print('R^2 score on test  = {:>10.2e}'.format(model.score(X_train, y_train)))\n",
    "\n",
    "    y_pred = model.predict(X_train)\n",
    "    mse = mean_squared_error(y_train, y_pred)\n",
    "    print('MSE on train       = {:>10.2e}'.format(mse))\n",
    "\n",
    "    y_pred = model.predict(X_test)\n",
    "    mse = mean_squared_error(y_test, y_pred)\n",
    "    print('MSE on test        = {:>10.2e}'.format(mse))\n",
    "    \n",
    "print_score(ElasticNet(alpha=0.2, l1_ratio=0).fit(X_train, y_train))\n",
    "# print()\n",
    "# print_score(ElasticNet(alpha=0.1).fit(X_train, y_train))\n",
    "# print()\n",
    "# print_score(ElasticNet(alpha=0.2, l1_ratio=1).fit(X_train, y_train))"
   ]
  },
  {
   "cell_type": "code",
   "execution_count": 13,
   "metadata": {},
   "outputs": [],
   "source": [
    "# # choosing the best alpha\n",
    "# from sklearn.model_selection import validation_curve\n",
    "# alphas = np.linspace(0, 1, 50)\n",
    "# train_scores, test_scores = validation_curve(ElasticNet(l1_ratio=0, max_iter=1000),\n",
    "#                                              X_train, y_train,\n",
    "#                                              param_name=\"alpha\", \n",
    "#                                              param_range=alphas,\n",
    "#                                              scoring=make_scorer(mean_squared_error))"
   ]
  },
  {
   "cell_type": "code",
   "execution_count": 14,
   "metadata": {},
   "outputs": [],
   "source": [
    "# # train_scores = \n",
    "# # # train_scores\n",
    "# # test_scores = )\n",
    "# plt.figure(figsize=(10, 10))\n",
    "# plt.plot(alphas, train_scores.mean(axis=1), label='train')\n",
    "# plt.plot(alphas, test_scores.mean(axis=1), label='test')\n",
    "# plt.legend()"
   ]
  },
  {
   "cell_type": "code",
   "execution_count": null,
   "metadata": {},
   "outputs": [],
   "source": [
    "\n",
    "    \n"
   ]
  },
  {
   "cell_type": "markdown",
   "metadata": {},
   "source": [
    "# Training on entire dataset"
   ]
  },
  {
   "cell_type": "code",
   "execution_count": 11,
   "metadata": {},
   "outputs": [
    {
     "name": "stdout",
     "output_type": "stream",
     "text": [
      "Index(['LotFrontage', 'LotArea', 'Street', 'Alley', 'Utilities', 'OverallQual',\n",
      "       'YearBuilt', 'TotalBsmtSF', 'CentralAir', 'Electrical', 'GrLivArea',\n",
      "       'PavedDrive', 'EnclosedPorch', 'PoolArea', 'Fence',\n",
      "       'SaleCondition_Abnorml', 'SaleCondition_Normal',\n",
      "       'SaleCondition_Partial', 'MSZoning_C (all)', 'MSZoning_RH',\n",
      "       'MSZoning_RL', 'MSZoning_RM', 'NearArtery_or_Feedr', 'PositiveFeat',\n",
      "       'BsmtQuartersQ', 'DeductionsFunctional', 'RegularityOfShape',\n",
      "       'means_neigh', 'TotBath', 'KitchensRating', 'FireplacesRating',\n",
      "       'GarageRating', 'HasBasement', 'OverallQual ^ 0.5', 'OverallQual ^ 1',\n",
      "       'OverallQual ^ 2', 'OverallQual ^ 3', 'GrLivArea ^ 0.5',\n",
      "       'GrLivArea ^ 1', 'GrLivArea ^ 2', 'GrLivArea ^ 3', 'GarageRating ^ 0.5',\n",
      "       'GarageRating ^ 1', 'GarageRating ^ 2', 'GarageRating ^ 3',\n",
      "       'YearBuilt ^ 0.5', 'YearBuilt ^ 1', 'YearBuilt ^ 2', 'YearBuilt ^ 3',\n",
      "       'FireplacesRating ^ 0.5', 'FireplacesRating ^ 1',\n",
      "       'FireplacesRating ^ 2', 'FireplacesRating ^ 3', 'KitchensRating ^ 0.5',\n",
      "       'KitchensRating ^ 1', 'KitchensRating ^ 2', 'KitchensRating ^ 3',\n",
      "       'BsmtQuartersQ ^ 0.5', 'BsmtQuartersQ ^ 1', 'BsmtQuartersQ ^ 2',\n",
      "       'BsmtQuartersQ ^ 3', 'LotFrontage ^ 0.5', 'LotFrontage ^ 1',\n",
      "       'LotFrontage ^ 2', 'LotFrontage ^ 3', 'LotArea ^ 0.5', 'LotArea ^ 1',\n",
      "       'LotArea ^ 2', 'LotArea ^ 3'],\n",
      "      dtype='object')\n"
     ]
    }
   ],
   "source": [
    "X, y = data.drop(columns=['SalePrice']), data['SalePrice']\n",
    "X = generate_polynomial(X)\n",
    "print(X.columns)\n",
    "scaler = StandardScaler().fit(X)\n",
    "\n",
    "X = scaler.transform(X)\n",
    "\n",
    "model = xgbr.fit(X, y)\n"
   ]
  },
  {
   "cell_type": "markdown",
   "metadata": {},
   "source": [
    "# Submitting"
   ]
  },
  {
   "cell_type": "code",
   "execution_count": null,
   "metadata": {},
   "outputs": [],
   "source": [
    "\n"
   ]
  },
  {
   "cell_type": "code",
   "execution_count": 23,
   "metadata": {},
   "outputs": [
    {
     "name": "stdout",
     "output_type": "stream",
     "text": [
      "(1459, 33)\n",
      "Index(['LotFrontage', 'LotArea', 'Street', 'Alley', 'Utilities', 'OverallQual',\n",
      "       'YearBuilt', 'TotalBsmtSF', 'CentralAir', 'Electrical', 'GrLivArea',\n",
      "       'PavedDrive', 'EnclosedPorch', 'PoolArea', 'Fence',\n",
      "       'SaleCondition_Abnorml', 'SaleCondition_Normal',\n",
      "       'SaleCondition_Partial', 'MSZoning_C (all)', 'MSZoning_RH',\n",
      "       'MSZoning_RL', 'MSZoning_RM', 'NearArtery_or_Feedr', 'PositiveFeat',\n",
      "       'BsmtQuartersQ', 'DeductionsFunctional', 'RegularityOfShape',\n",
      "       'means_neigh', 'TotBath', 'KitchensRating', 'FireplacesRating',\n",
      "       'GarageRating', 'HasBasement', 'OverallQual ^ 0.5', 'OverallQual ^ 1',\n",
      "       'OverallQual ^ 2', 'OverallQual ^ 3', 'GrLivArea ^ 0.5',\n",
      "       'GrLivArea ^ 1', 'GrLivArea ^ 2', 'GrLivArea ^ 3', 'GarageRating ^ 0.5',\n",
      "       'GarageRating ^ 1', 'GarageRating ^ 2', 'GarageRating ^ 3',\n",
      "       'YearBuilt ^ 0.5', 'YearBuilt ^ 1', 'YearBuilt ^ 2', 'YearBuilt ^ 3',\n",
      "       'FireplacesRating ^ 0.5', 'FireplacesRating ^ 1',\n",
      "       'FireplacesRating ^ 2', 'FireplacesRating ^ 3', 'KitchensRating ^ 0.5',\n",
      "       'KitchensRating ^ 1', 'KitchensRating ^ 2', 'KitchensRating ^ 3',\n",
      "       'BsmtQuartersQ ^ 0.5', 'BsmtQuartersQ ^ 1', 'BsmtQuartersQ ^ 2',\n",
      "       'BsmtQuartersQ ^ 3', 'LotFrontage ^ 0.5', 'LotFrontage ^ 1',\n",
      "       'LotFrontage ^ 2', 'LotFrontage ^ 3', 'LotArea ^ 0.5', 'LotArea ^ 1',\n",
      "       'LotArea ^ 2', 'LotArea ^ 3'],\n",
      "      dtype='object')\n"
     ]
    }
   ],
   "source": [
    "import numpy as np\n",
    "import pandas as pd\n",
    "import matplotlib.pyplot as plt\n",
    "\n",
    "fname = 'test.csv'\n",
    "data = pd.read_csv('preprocessed_' + fname, index_col='Id')\n",
    "n_examples, n_features = data.shape\n",
    "X=data\n",
    "print(X.shape)\n",
    "\n",
    "def generate_polynomial(data):\n",
    "    lst = ['OverallQual','GrLivArea',\n",
    "           'GarageRating', 'YearBuilt',\n",
    "           'FireplacesRating', 'KitchensRating', 'BsmtQuartersQ',\n",
    "           'LotFrontage', 'LotArea']\n",
    "    for feat in lst:\n",
    "        for degree in [0.5, 1, 2, 3]:\n",
    "            data[feat + ' ^ ' + str(degree)] = data[feat]**degree\n",
    "    return data\n",
    "X = generate_polynomial(X)\n",
    "print(X.columns)\n",
    "\n",
    "X = X.fillna(0)\n",
    "# print(pd.isna(X).sum().sort_values())\n",
    "\n",
    "X = scaler.transform(X)\n",
    "y_pred = model.predict(X)\n",
    "ser = pd.Series(np.exp(y_pred), index=data.index)\n",
    "ser = ser.rename(\"SalePrice\")\n",
    "ser.to_csv('subm.csv')"
   ]
  },
  {
   "cell_type": "code",
   "execution_count": null,
   "metadata": {},
   "outputs": [],
   "source": []
  }
 ],
 "metadata": {
  "kernelspec": {
   "display_name": "Python 3",
   "language": "python",
   "name": "python3"
  },
  "language_info": {
   "codemirror_mode": {
    "name": "ipython",
    "version": 3
   },
   "file_extension": ".py",
   "mimetype": "text/x-python",
   "name": "python",
   "nbconvert_exporter": "python",
   "pygments_lexer": "ipython3",
   "version": "3.8.2"
  }
 },
 "nbformat": 4,
 "nbformat_minor": 4
}
