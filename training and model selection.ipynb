{
 "cells": [
  {
   "cell_type": "markdown",
   "metadata": {},
   "source": [
    "# Training linear model"
   ]
  },
  {
   "cell_type": "code",
   "execution_count": 150,
   "metadata": {},
   "outputs": [
    {
     "data": {
      "text/plain": [
       "Index(['LotFrontage', 'LotArea', 'Street', 'Alley', 'Utilities', 'OverallQual',\n",
       "       'YearBuilt', 'TotalBsmtSF', 'CentralAir', 'Electrical', 'GrLivArea',\n",
       "       'PavedDrive', 'EnclosedPorch', 'PoolArea', 'Fence',\n",
       "       'SaleCondition_Abnorml', 'SaleCondition_Normal',\n",
       "       'SaleCondition_Partial', 'MSZoning_C (all)', 'MSZoning_RH',\n",
       "       'MSZoning_RL', 'MSZoning_RM', 'NearArtery_or_Feedr', 'PositiveFeat',\n",
       "       'BsmtQuartersQ', 'DeductionsFunctional', 'RegularityOfShape', 'TotBath',\n",
       "       'KitchensRating', 'FireplacesRating', 'GarageRating', 'HasBasement'],\n",
       "      dtype='object')"
      ]
     },
     "execution_count": 150,
     "metadata": {},
     "output_type": "execute_result"
    }
   ],
   "source": [
    "import numpy as np\n",
    "import pandas as pd\n",
    "import matplotlib.pyplot as plt\n",
    "from sklearn.model_selection import train_test_split\n",
    "\n",
    "fname = 'train.csv'\n",
    "data = pd.read_csv('preprocessed2_' + fname, index_col='Id')\n",
    "n_examples, n_features = data.shape\n",
    "\n",
    "X, y = data.drop(columns=['SalePrice']), data['SalePrice']\n",
    "X_train, X_test, y_train, y_test = train_test_split(X, y, test_size=0.25, random_state=42)\n",
    "X_train.shape, X_test.shape, y_train.shape, y_test.shape\n",
    "\n",
    "X.columns"
   ]
  },
  {
   "cell_type": "code",
   "execution_count": 151,
   "metadata": {
    "scrolled": true
   },
   "outputs": [
    {
     "name": "stderr",
     "output_type": "stream",
     "text": [
      "<ipython-input-151-b1e98829a4bb>:10: SettingWithCopyWarning: \n",
      "A value is trying to be set on a copy of a slice from a DataFrame.\n",
      "Try using .loc[row_indexer,col_indexer] = value instead\n",
      "\n",
      "See the caveats in the documentation: https://pandas.pydata.org/pandas-docs/stable/user_guide/indexing.html#returning-a-view-versus-a-copy\n",
      "  data[feat + ' ^ ' + str(degree)] = data[feat]**degree\n",
      "<ipython-input-151-b1e98829a4bb>:10: SettingWithCopyWarning: \n",
      "A value is trying to be set on a copy of a slice from a DataFrame.\n",
      "Try using .loc[row_indexer,col_indexer] = value instead\n",
      "\n",
      "See the caveats in the documentation: https://pandas.pydata.org/pandas-docs/stable/user_guide/indexing.html#returning-a-view-versus-a-copy\n",
      "  data[feat + ' ^ ' + str(degree)] = data[feat]**degree\n"
     ]
    }
   ],
   "source": [
    "# generate polynomial features\n",
    "\n",
    "def generate_polynomial(data):\n",
    "    lst = ['OverallQual', 'GrLivArea',\n",
    "           'GarageRating', 'YearBuilt',\n",
    "           'FireplacesRating', 'KitchensRating', 'BsmtQuartersQ',\n",
    "           'LotFrontage', 'LotArea']\n",
    "    for feat in lst:\n",
    "        for degree in [0.5, 1, 2, 3]:\n",
    "            data[feat + ' ^ ' + str(degree)] = data[feat]**degree\n",
    "    return data\n",
    "\n",
    "X_train = generate_polynomial(X_train)\n",
    "\n",
    "# apply normalization\n",
    "from sklearn.preprocessing import StandardScaler\n",
    "scaler = StandardScaler()\n",
    "X_train = scaler.fit_transform(X_train)\n",
    "\n",
    "\n",
    "# the same for test set\n",
    "X_test = generate_polynomial(X_test)\n",
    "X_test = scaler.transform(X_test)"
   ]
  },
  {
   "cell_type": "markdown",
   "metadata": {},
   "source": [
    "# Model Selection"
   ]
  },
  {
   "cell_type": "code",
   "execution_count": 152,
   "metadata": {},
   "outputs": [],
   "source": [
    "from sklearn.linear_model import RidgeCV, LassoCV, ElasticNetCV\n",
    "from sklearn.svm import SVR\n",
    "from sklearn.neural_network import MLPRegressor\n",
    "from sklearn.neighbors import KNeighborsRegressor\n",
    "from sklearn.ensemble import RandomForestRegressor, GradientBoostingRegressor, AdaBoostRegressor\n",
    "\n",
    "from sklearn.metrics import mean_squared_error\n",
    "from sklearn.model_selection import validation_curve\n",
    "from sklearn.model_selection import cross_val_score\n",
    "\n",
    "def rmse_cv(model):\n",
    "    rmse = np.sqrt(-cross_val_score(model, X, y, scoring=\"neg_mean_squared_error\"))\n",
    "    return rmse"
   ]
  },
  {
   "cell_type": "markdown",
   "metadata": {},
   "source": [
    "Linear models:"
   ]
  },
  {
   "cell_type": "code",
   "execution_count": 153,
   "metadata": {
    "scrolled": false
   },
   "outputs": [
    {
     "name": "stdout",
     "output_type": "stream",
     "text": [
      "0.17162474607516068\n",
      "0.17862231845423288\n",
      "0.17569876218347225\n"
     ]
    }
   ],
   "source": [
    "alpha_range = np.arange(0.01, 0.15, 0.01)\n",
    "\n",
    "ridge = RidgeCV(alphas = alpha_range, scoring=\"neg_mean_squared_error\").fit(X_train, y_train)\n",
    "lasso = LassoCV(alphas = alpha_range).fit(X_train, y_train)\n",
    "elastic_net = ElasticNetCV(alphas=alpha_range).fit(X_train, y_train)\n",
    "\n",
    "print(rmse_cv(ridge).mean())\n",
    "print(rmse_cv(lasso).mean())\n",
    "print(rmse_cv(elastic_net).mean())\n",
    "\n",
    "\n",
    "# print(ridge.score(X_train, y_train), lasso.score(X_train, y_train), elastic_net.score(X_train, y_train))\n",
    "# print(ridge.score(X_test, y_test), lasso.score(X_test, y_test), elastic_net.score(X_test, y_test))\n",
    "# print(ridge.alpha_, lasso.alpha_, elastic_net.alpha_, elastic_net.l1_ratio_)"
   ]
  },
  {
   "cell_type": "markdown",
   "metadata": {},
   "source": [
    "XGBoost:"
   ]
  },
  {
   "cell_type": "code",
   "execution_count": 192,
   "metadata": {},
   "outputs": [],
   "source": [
    "import xgboost as xgb\n",
    "\n",
    "\n",
    "dtrain = xgb.DMatrix(X_train, label=y_train)\n",
    "dtest = xgb.DMatrix(X_test, label=y_test)\n",
    "param = {'max_depth': 2, \n",
    "         'eta': 0.3, \n",
    "         'alpha': 1,\n",
    "         'lambda': 0,\n",
    "         'objective': 'reg:squarederror',\n",
    "        'verbosity': 1}\n",
    "\n",
    "num_round = 100\n",
    "evallist = [(dtest, 'valid'), (dtrain, 'train')]\n",
    "\n",
    "n_alpha = 100\n",
    "alpha_range = np.linspace(0, 0.2, n_alpha)\n",
    "scores_train = []\n",
    "scores_test = []\n",
    "for alpha in alpha_range: \n",
    "    param['alpha'] = alpha\n",
    "    bst = xgb.train(param, dtrain, num_round, evallist, verbose_eval=0)\n",
    "    scores_train.append(np.sqrt(mean_squared_error(bst.predict(dtrain), y_train)))\n",
    "    scores_test.append(np.sqrt(mean_squared_error(bst.predict(dtest), y_test)))\n",
    "\n",
    "plt.plot(alpha_range, np.array(scores_train), label = \"train\")\n",
    "plt.plot(alpha_range, np.array(scores_test), label = \"test\")\n",
    "plt.xlabel(\"alpha\")\n",
    "plt.ylabel(\"RMSE\")\n",
    "plt.legend();"
   ]
  },
  {
   "cell_type": "code",
   "execution_count": 197,
   "metadata": {},
   "outputs": [
    {
     "name": "stdout",
     "output_type": "stream",
     "text": [
      "[0]\tvalid-rmse:8.09516\ttrain-rmse:8.09696\n",
      "[99]\tvalid-rmse:0.15200\ttrain-rmse:0.11744\n"
     ]
    }
   ],
   "source": [
    "param['alpha'] = 0\n",
    "bst = xgb.train(param, dtrain, num_round, evallist, verbose_eval=num_round)"
   ]
  },
  {
   "cell_type": "code",
   "execution_count": null,
   "metadata": {},
   "outputs": [],
   "source": []
  },
  {
   "cell_type": "markdown",
   "metadata": {},
   "source": [
    "# Training ElasticNet"
   ]
  },
  {
   "cell_type": "code",
   "execution_count": 114,
   "metadata": {},
   "outputs": [],
   "source": [
    "from sklearn.linear_model import ElasticNet, Lasso, LassoCV\n",
    "model = ElasticNet(max_iter=10000).fit(X_train, y_train)\n"
   ]
  },
  {
   "cell_type": "code",
   "execution_count": 121,
   "metadata": {},
   "outputs": [
    {
     "name": "stdout",
     "output_type": "stream",
     "text": [
      "R^2 score on train = 0.00e+00\n",
      "R^2 score on test = 0.00e+00\n",
      "RMSE = 0.2183008271196573\n",
      "RMSE on test = 0.3039592832023523\n"
     ]
    }
   ],
   "source": [
    "# score\n",
    "from sklearn.metrics import mean_squared_error\n",
    "\n",
    "print('R^2 score on train = {:.2e}'.format(model.score(X_train, y_train)))\n",
    "print('R^2 score on test = {:.2e}'.format(model.score(X_train, y_train)))\n",
    "\n",
    "y_pred = model.predict(X_train)\n",
    "mse = mean_squared_error(y_train, y_pred)\n",
    "print('RMSE = {:}'.format(rmse_cv(model).mean()))\n",
    "\n",
    "y_pred = model.predict(X_test)\n",
    "mse = mean_squared_error(y_test, y_pred)\n",
    "print('RMSE on test = {:}'.format(np.sqrt(mse)))"
   ]
  },
  {
   "cell_type": "code",
   "execution_count": 5,
   "metadata": {},
   "outputs": [
    {
     "name": "stdout",
     "output_type": "stream",
     "text": [
      "count    1.08e+03\n",
      "mean    -1.87e-16\n",
      "std      3.00e-01\n",
      "min     -6.61e-01\n",
      "25%     -1.34e-01\n",
      "50%     -7.48e-02\n",
      "75%      2.35e-01\n",
      "max      5.63e-01\n",
      "Name: SalePrice, dtype: float64\n"
     ]
    },
    {
     "data": {
      "text/plain": [
       "Text(0.5, 1.0, 'Residuals, train set \\n Score = 0.00e+00')"
      ]
     },
     "execution_count": 5,
     "metadata": {},
     "output_type": "execute_result"
    },
    {
     "data": {
      "image/png": "[encoded data removed]",
      "text/plain": [
       "<Figure size 720x360 with 1 Axes>"
      ]
     },
     "metadata": {
      "needs_background": "light"
     },
     "output_type": "display_data"
    }
   ],
   "source": [
    "%matplotlib inline\n",
    "pd.set_option('precision', 2)\n",
    "\n",
    "residuals = model.predict(X_train) - y_train\n",
    "print(residuals.describe())\n",
    "\n",
    "plt.figure(figsize=(10, 5))\n",
    "plt.scatter(residuals.index, residuals)\n",
    "plt.plot([0, residuals.index.max()], [0, 0], color='red');\n",
    "plt.title('Residuals, train set \\n Score = {:.2e}'.format(model.score(X_train, y_train)))\n"
   ]
  },
  {
   "cell_type": "code",
   "execution_count": 6,
   "metadata": {},
   "outputs": [
    {
     "name": "stdout",
     "output_type": "stream",
     "text": [
      "count    3.62e+02\n",
      "mean     3.17e-03\n",
      "std      3.04e-01\n",
      "min     -6.61e-01\n",
      "25%     -1.34e-01\n",
      "50%     -7.48e-02\n",
      "75%      2.35e-01\n",
      "max      5.63e-01\n",
      "Name: SalePrice, dtype: float64\n"
     ]
    },
    {
     "data": {
      "text/plain": [
       "Text(0.5, 1.0, 'Residuals, test set \\n Score = -1.08e-04')"
      ]
     },
     "execution_count": 6,
     "metadata": {},
     "output_type": "execute_result"
    },
    {
     "data": {
      "image/png": "[encoded data removed]",
      "text/plain": [
       "<Figure size 720x360 with 1 Axes>"
      ]
     },
     "metadata": {
      "needs_background": "light"
     },
     "output_type": "display_data"
    }
   ],
   "source": [
    "residuals = model.predict(X_test) - y_test\n",
    "print(residuals.describe())\n",
    "\n",
    "plt.figure(figsize=(10, 5))\n",
    "plt.scatter(residuals.index, residuals, color='green')\n",
    "plt.plot([0, residuals.index.max()], [0, 0], color='red');\n",
    "plt.title('Residuals, test set \\n Score = {:.2e}'.format(model.score(X_test, y_test)))\n"
   ]
  },
  {
   "cell_type": "markdown",
   "metadata": {},
   "source": [
    "# Tuning regularization parameters"
   ]
  },
  {
   "cell_type": "code",
   "execution_count": 7,
   "metadata": {},
   "outputs": [
    {
     "name": "stdout",
     "output_type": "stream",
     "text": [
      "{'alpha': 0.2, 'copy_X': True, 'fit_intercept': True, 'l1_ratio': 0.5, 'max_iter': 10000, 'normalize': False, 'positive': False, 'precompute': False, 'random_state': None, 'selection': 'cyclic', 'tol': 0.0001, 'warm_start': False}\n"
     ]
    },
    {
     "data": {
      "image/png": "[encoded data removed]",
      "text/plain": [
       "<Figure size 720x720 with 1 Axes>"
      ]
     },
     "metadata": {
      "needs_background": "light"
     },
     "output_type": "display_data"
    }
   ],
   "source": [
    "from sklearn.linear_model import ElasticNet, LinearRegression\n",
    "model = ElasticNet(alpha=0.2, max_iter=10000).fit(X_train, y_train)\n",
    "\n",
    "alphas, coefs, _ = model.path(X_train, y_train)\n",
    "plt.figure(figsize=(10, 10))\n",
    "for i in range(n_features):\n",
    "    ax = plt.gca()\n",
    "    ax.plot(alphas, coefs[i, :]);\n",
    "    \n",
    "# coefs.max()\n",
    "# alphas.min(), alphas.max()\n",
    "print(model.get_params())"
   ]
  },
  {
   "cell_type": "code",
   "execution_count": 18,
   "metadata": {},
   "outputs": [
    {
     "name": "stdout",
     "output_type": "stream",
     "text": [
      "ElasticNet(alpha=0.2, l1_ratio=0)\n",
      "R^2 score on train =   6.87e-01\n",
      "R^2 score on test  =   6.87e-01\n",
      "MSE on train       =   2.81e-02\n",
      "MSE on test        =   2.88e-02\n"
     ]
    },
    {
     "name": "stderr",
     "output_type": "stream",
     "text": [
      "/home/paul/anaconda3/lib/python3.8/site-packages/sklearn/linear_model/_coordinate_descent.py:529: ConvergenceWarning: Objective did not converge. You might want to increase the number of iterations. Duality gap: 16.063461401465187, tolerance: 0.009748603945682445\n",
      "  model = cd_fast.enet_coordinate_descent(\n"
     ]
    }
   ],
   "source": [
    "# score\n",
    "from sklearn.linear_model import ElasticNet\n",
    "from sklearn.metrics import mean_squared_error\n",
    "\n",
    "def print_score(model):\n",
    "    print(model)\n",
    "    print('R^2 score on train = {:>10.2e}'.format(model.score(X_train, y_train)))\n",
    "    print('R^2 score on test  = {:>10.2e}'.format(model.score(X_train, y_train)))\n",
    "\n",
    "    y_pred = model.predict(X_train)\n",
    "    mse = mean_squared_error(y_train, y_pred)\n",
    "    print('MSE on train       = {:>10.2e}'.format(mse))\n",
    "\n",
    "    y_pred = model.predict(X_test)\n",
    "    mse = mean_squared_error(y_test, y_pred)\n",
    "    print('MSE on test        = {:>10.2e}'.format(mse))\n",
    "    \n",
    "print_score(ElasticNet(alpha=0.2, l1_ratio=0).fit(X_train, y_train))\n",
    "# print()\n",
    "# print_score(ElasticNet(alpha=0.1).fit(X_train, y_train))\n",
    "# print()\n",
    "# print_score(ElasticNet(alpha=0.2, l1_ratio=1).fit(X_train, y_train))"
   ]
  },
  {
   "cell_type": "code",
   "execution_count": 9,
   "metadata": {},
   "outputs": [],
   "source": [
    "# # choosing the best alpha\n",
    "# from sklearn.model_selection import validation_curve\n",
    "# alphas = np.linspace(0, 1, 50)\n",
    "# train_scores, test_scores = validation_curve(ElasticNet(l1_ratio=0, max_iter=1000),\n",
    "#                                              X_train, y_train,\n",
    "#                                              param_name=\"alpha\", \n",
    "#                                              param_range=alphas,\n",
    "#                                              scoring=make_scorer(mean_squared_error))"
   ]
  },
  {
   "cell_type": "code",
   "execution_count": 10,
   "metadata": {},
   "outputs": [],
   "source": [
    "# # train_scores = \n",
    "# # # train_scores\n",
    "# # test_scores = )\n",
    "# plt.figure(figsize=(10, 10))\n",
    "# plt.plot(alphas, train_scores.mean(axis=1), label='train')\n",
    "# plt.plot(alphas, test_scores.mean(axis=1), label='test')\n",
    "# plt.legend()"
   ]
  },
  {
   "cell_type": "code",
   "execution_count": null,
   "metadata": {},
   "outputs": [],
   "source": [
    "\n",
    "    \n"
   ]
  },
  {
   "cell_type": "markdown",
   "metadata": {},
   "source": [
    "# Training on entire dataset"
   ]
  },
  {
   "cell_type": "code",
   "execution_count": 11,
   "metadata": {},
   "outputs": [
    {
     "data": {
      "text/plain": [
       "Index(['LotFrontage', 'LotArea', 'Street', 'Alley', 'Utilities', 'OverallQual',\n",
       "       'YearBuilt', 'TotalBsmtSF', 'CentralAir', 'Electrical', 'GrLivArea',\n",
       "       'PavedDrive', 'EnclosedPorch', 'PoolArea', 'Fence',\n",
       "       'SaleCondition_Abnorml', 'SaleCondition_Normal',\n",
       "       'SaleCondition_Partial', 'MSZoning_C (all)', 'MSZoning_RH',\n",
       "       'MSZoning_RL', 'MSZoning_RM', 'NearArtery_or_Feedr', 'PositiveFeat',\n",
       "       'BsmtQuartersQ', 'DeductionsFunctional', 'RegularityOfShape',\n",
       "       'SalePrice', 'TotBath', 'KitchensRating', 'FireplacesRating',\n",
       "       'GarageRating', 'HasBasement'],\n",
       "      dtype='object')"
      ]
     },
     "execution_count": 11,
     "metadata": {},
     "output_type": "execute_result"
    }
   ],
   "source": [
    "X, y = data.drop(columns=['SalePrice']), data['SalePrice']\n",
    "X = generate_polynomial(X)\n",
    "scaler = StandardScaler().fit(X)\n",
    "X = scaler.transform(X)\n",
    "\n",
    "model = LinearRegression().fit(X, y)\n",
    "# mean_squared_error(y, model.predict(X))\n",
    "np.sqrt(mean_squared_error(y, model.predict(X)))\n",
    "# data.shape\n",
    "\n",
    "data.columns"
   ]
  },
  {
   "cell_type": "markdown",
   "metadata": {},
   "source": [
    "# Submitting"
   ]
  },
  {
   "cell_type": "code",
   "execution_count": null,
   "metadata": {},
   "outputs": [],
   "source": [
    "\n"
   ]
  },
  {
   "cell_type": "code",
   "execution_count": 13,
   "metadata": {},
   "outputs": [
    {
     "name": "stdout",
     "output_type": "stream",
     "text": [
      "LotFrontage             0\n",
      "OverallQual ^ 3         0\n",
      "GrLivArea ^ 0.5         0\n",
      "GrLivArea ^ 1           0\n",
      "GrLivArea ^ 2           0\n",
      "                       ..\n",
      "MSZoning_RM             0\n",
      "MSZoning_RL             0\n",
      "MSZoning_RH             0\n",
      "DeductionsFunctional    0\n",
      "LotArea ^ 3             0\n",
      "Length: 70, dtype: int64\n"
     ]
    },
    {
     "ename": "ValueError",
     "evalue": "X has 70 features, but this StandardScaler is expecting 68 features as input.",
     "output_type": "error",
     "traceback": [
      "\u001b[0;31m---------------------------------------------------------------------------\u001b[0m",
      "\u001b[0;31mValueError\u001b[0m                                Traceback (most recent call last)",
      "\u001b[0;32m<ipython-input-13-0c1ca4fc7745>\u001b[0m in \u001b[0;36m<module>\u001b[0;34m\u001b[0m\n\u001b[1;32m     23\u001b[0m \u001b[0mprint\u001b[0m\u001b[0;34m(\u001b[0m\u001b[0mpd\u001b[0m\u001b[0;34m.\u001b[0m\u001b[0misna\u001b[0m\u001b[0;34m(\u001b[0m\u001b[0mX\u001b[0m\u001b[0;34m)\u001b[0m\u001b[0;34m.\u001b[0m\u001b[0msum\u001b[0m\u001b[0;34m(\u001b[0m\u001b[0;34m)\u001b[0m\u001b[0;34m.\u001b[0m\u001b[0msort_values\u001b[0m\u001b[0;34m(\u001b[0m\u001b[0;34m)\u001b[0m\u001b[0;34m)\u001b[0m\u001b[0;34m\u001b[0m\u001b[0;34m\u001b[0m\u001b[0m\n\u001b[1;32m     24\u001b[0m \u001b[0;34m\u001b[0m\u001b[0m\n\u001b[0;32m---> 25\u001b[0;31m \u001b[0mX\u001b[0m \u001b[0;34m=\u001b[0m \u001b[0mscaler\u001b[0m\u001b[0;34m.\u001b[0m\u001b[0mtransform\u001b[0m\u001b[0;34m(\u001b[0m\u001b[0mX\u001b[0m\u001b[0;34m)\u001b[0m\u001b[0;34m\u001b[0m\u001b[0;34m\u001b[0m\u001b[0m\n\u001b[0m\u001b[1;32m     26\u001b[0m \u001b[0my_pred\u001b[0m \u001b[0;34m=\u001b[0m \u001b[0mmodel\u001b[0m\u001b[0;34m.\u001b[0m\u001b[0mpredict\u001b[0m\u001b[0;34m(\u001b[0m\u001b[0mX\u001b[0m\u001b[0;34m)\u001b[0m\u001b[0;34m\u001b[0m\u001b[0;34m\u001b[0m\u001b[0m\n\u001b[1;32m     27\u001b[0m \u001b[0mser\u001b[0m \u001b[0;34m=\u001b[0m \u001b[0mpd\u001b[0m\u001b[0;34m.\u001b[0m\u001b[0mSeries\u001b[0m\u001b[0;34m(\u001b[0m\u001b[0mnp\u001b[0m\u001b[0;34m.\u001b[0m\u001b[0mexp\u001b[0m\u001b[0;34m(\u001b[0m\u001b[0my_pred\u001b[0m\u001b[0;34m)\u001b[0m\u001b[0;34m,\u001b[0m \u001b[0mindex\u001b[0m\u001b[0;34m=\u001b[0m\u001b[0mdata\u001b[0m\u001b[0;34m.\u001b[0m\u001b[0mindex\u001b[0m\u001b[0;34m)\u001b[0m\u001b[0;34m\u001b[0m\u001b[0;34m\u001b[0m\u001b[0m\n",
      "\u001b[0;32m~/anaconda3/lib/python3.8/site-packages/sklearn/preprocessing/_data.py\u001b[0m in \u001b[0;36mtransform\u001b[0;34m(self, X, copy)\u001b[0m\n\u001b[1;32m    789\u001b[0m \u001b[0;34m\u001b[0m\u001b[0m\n\u001b[1;32m    790\u001b[0m         \u001b[0mcopy\u001b[0m \u001b[0;34m=\u001b[0m \u001b[0mcopy\u001b[0m \u001b[0;32mif\u001b[0m \u001b[0mcopy\u001b[0m \u001b[0;32mis\u001b[0m \u001b[0;32mnot\u001b[0m \u001b[0;32mNone\u001b[0m \u001b[0;32melse\u001b[0m \u001b[0mself\u001b[0m\u001b[0;34m.\u001b[0m\u001b[0mcopy\u001b[0m\u001b[0;34m\u001b[0m\u001b[0;34m\u001b[0m\u001b[0m\n\u001b[0;32m--> 791\u001b[0;31m         X = self._validate_data(X, reset=False,\n\u001b[0m\u001b[1;32m    792\u001b[0m                                 \u001b[0maccept_sparse\u001b[0m\u001b[0;34m=\u001b[0m\u001b[0;34m'csr'\u001b[0m\u001b[0;34m,\u001b[0m \u001b[0mcopy\u001b[0m\u001b[0;34m=\u001b[0m\u001b[0mcopy\u001b[0m\u001b[0;34m,\u001b[0m\u001b[0;34m\u001b[0m\u001b[0;34m\u001b[0m\u001b[0m\n\u001b[1;32m    793\u001b[0m                                 \u001b[0mestimator\u001b[0m\u001b[0;34m=\u001b[0m\u001b[0mself\u001b[0m\u001b[0;34m,\u001b[0m \u001b[0mdtype\u001b[0m\u001b[0;34m=\u001b[0m\u001b[0mFLOAT_DTYPES\u001b[0m\u001b[0;34m,\u001b[0m\u001b[0;34m\u001b[0m\u001b[0;34m\u001b[0m\u001b[0m\n",
      "\u001b[0;32m~/anaconda3/lib/python3.8/site-packages/sklearn/base.py\u001b[0m in \u001b[0;36m_validate_data\u001b[0;34m(self, X, y, reset, validate_separately, **check_params)\u001b[0m\n\u001b[1;32m    434\u001b[0m \u001b[0;34m\u001b[0m\u001b[0m\n\u001b[1;32m    435\u001b[0m         \u001b[0;32mif\u001b[0m \u001b[0mcheck_params\u001b[0m\u001b[0;34m.\u001b[0m\u001b[0mget\u001b[0m\u001b[0;34m(\u001b[0m\u001b[0;34m'ensure_2d'\u001b[0m\u001b[0;34m,\u001b[0m \u001b[0;32mTrue\u001b[0m\u001b[0;34m)\u001b[0m\u001b[0;34m:\u001b[0m\u001b[0;34m\u001b[0m\u001b[0;34m\u001b[0m\u001b[0m\n\u001b[0;32m--> 436\u001b[0;31m             \u001b[0mself\u001b[0m\u001b[0;34m.\u001b[0m\u001b[0m_check_n_features\u001b[0m\u001b[0;34m(\u001b[0m\u001b[0mX\u001b[0m\u001b[0;34m,\u001b[0m \u001b[0mreset\u001b[0m\u001b[0;34m=\u001b[0m\u001b[0mreset\u001b[0m\u001b[0;34m)\u001b[0m\u001b[0;34m\u001b[0m\u001b[0;34m\u001b[0m\u001b[0m\n\u001b[0m\u001b[1;32m    437\u001b[0m \u001b[0;34m\u001b[0m\u001b[0m\n\u001b[1;32m    438\u001b[0m         \u001b[0;32mreturn\u001b[0m \u001b[0mout\u001b[0m\u001b[0;34m\u001b[0m\u001b[0;34m\u001b[0m\u001b[0m\n",
      "\u001b[0;32m~/anaconda3/lib/python3.8/site-packages/sklearn/base.py\u001b[0m in \u001b[0;36m_check_n_features\u001b[0;34m(self, X, reset)\u001b[0m\n\u001b[1;32m    375\u001b[0m                 )\n\u001b[1;32m    376\u001b[0m             \u001b[0;32mif\u001b[0m \u001b[0mn_features\u001b[0m \u001b[0;34m!=\u001b[0m \u001b[0mself\u001b[0m\u001b[0;34m.\u001b[0m\u001b[0mn_features_in_\u001b[0m\u001b[0;34m:\u001b[0m\u001b[0;34m\u001b[0m\u001b[0;34m\u001b[0m\u001b[0m\n\u001b[0;32m--> 377\u001b[0;31m                 raise ValueError(\n\u001b[0m\u001b[1;32m    378\u001b[0m                     \u001b[0;34m'X has {} features, but this {} is expecting {} features '\u001b[0m\u001b[0;34m\u001b[0m\u001b[0;34m\u001b[0m\u001b[0m\n\u001b[1;32m    379\u001b[0m                     'as input.'.format(n_features, self.__class__.__name__,\n",
      "\u001b[0;31mValueError\u001b[0m: X has 70 features, but this StandardScaler is expecting 68 features as input."
     ]
    }
   ],
   "source": [
    "import numpy as np\n",
    "import pandas as pd\n",
    "import matplotlib.pyplot as plt\n",
    "from sklearn.model_selection import train_test_split\n",
    "\n",
    "fname = 'test.csv'\n",
    "data = pd.read_csv('preprocessed2_' + fname, index_col='Id')\n",
    "n_examples, n_features = data.shape\n",
    "X=data\n",
    "\n",
    "def generate_polynomial(data):\n",
    "    lst = ['OverallQual','GrLivArea',\n",
    "           'GarageRating', 'YearBuilt',\n",
    "           'FireplacesRating', 'KitchensRating', 'BsmtQuartersQ',\n",
    "           'LotFrontage', 'LotArea']\n",
    "    for feat in lst:\n",
    "        for degree in [0.5, 1, 2, 3]:\n",
    "            data[feat + ' ^ ' + str(degree)] = data[feat]**degree\n",
    "    return data\n",
    "\n",
    "X = generate_polynomial(X)\n",
    "X = X.fillna(0)\n",
    "print(pd.isna(X).sum().sort_values())\n",
    "\n",
    "X = scaler.transform(X)\n",
    "y_pred = model.predict(X)\n",
    "ser = pd.Series(np.exp(y_pred), index=data.index)\n",
    "ser.to_csv('subm.csv')"
   ]
  },
  {
   "cell_type": "code",
   "execution_count": null,
   "metadata": {},
   "outputs": [],
   "source": [
    "\n"
   ]
  },
  {
   "cell_type": "code",
   "execution_count": null,
   "metadata": {},
   "outputs": [],
   "source": []
  }
 ],
 "metadata": {
  "kernelspec": {
   "display_name": "Python 3",
   "language": "python",
   "name": "python3"
  },
  "language_info": {
   "codemirror_mode": {
    "name": "ipython",
    "version": 3
   },
   "file_extension": ".py",
   "mimetype": "text/x-python",
   "name": "python",
   "nbconvert_exporter": "python",
   "pygments_lexer": "ipython3",
   "version": "3.8.2"
  }
 },
 "nbformat": 4,
 "nbformat_minor": 4
}
